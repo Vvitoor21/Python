{
  "nbformat": 4,
  "nbformat_minor": 0,
  "metadata": {
    "colab": {
      "name": "03_Laco_For_e_While.ipynb",
      "provenance": [],
      "collapsed_sections": [],
      "authorship_tag": "ABX9TyOOkeAUiGF6wzzaSgozw7WW",
      "include_colab_link": true
    },
    "kernelspec": {
      "name": "python3",
      "display_name": "Python 3"
    },
    "language_info": {
      "name": "python"
    }
  },
  "cells": [
    {
      "cell_type": "markdown",
      "metadata": {
        "id": "view-in-github",
        "colab_type": "text"
      },
      "source": [
        "<a href=\"https://colab.research.google.com/github/Vvitoor21/Python/blob/master/03_Laco_For_e_While.ipynb\" target=\"_parent\"><img src=\"https://colab.research.google.com/assets/colab-badge.svg\" alt=\"Open In Colab\"/></a>"
      ]
    },
    {
      "cell_type": "code",
      "execution_count": null,
      "metadata": {
        "id": "b2tbYhvs39GD"
      },
      "outputs": [],
      "source": [
        "nome = 'Vitor Duarte Bem'\n",
        "numeros = [1,2,3,4,5]\n",
        "range = range(0,10,2)"
      ]
    },
    {
      "cell_type": "code",
      "source": [
        "for letra in nome:\n",
        "  print(letra)"
      ],
      "metadata": {
        "colab": {
          "base_uri": "https://localhost:8080/"
        },
        "id": "wdORP-lh440p",
        "outputId": "2e9fd769-6dae-4874-c535-5507c91aa896"
      },
      "execution_count": null,
      "outputs": [
        {
          "output_type": "stream",
          "name": "stdout",
          "text": [
            "V\n",
            "i\n",
            "t\n",
            "o\n",
            "r\n",
            " \n",
            "D\n",
            "u\n",
            "a\n",
            "r\n",
            "t\n",
            "e\n",
            " \n",
            "B\n",
            "e\n",
            "m\n"
          ]
        }
      ]
    },
    {
      "cell_type": "code",
      "source": [
        "for numero in numeros:\n",
        "  print(numero)"
      ],
      "metadata": {
        "colab": {
          "base_uri": "https://localhost:8080/"
        },
        "id": "x0ayaqYD51fn",
        "outputId": "75cf17e2-bc65-46fe-e02d-7ae568c18361"
      },
      "execution_count": null,
      "outputs": [
        {
          "output_type": "stream",
          "name": "stdout",
          "text": [
            "1\n",
            "2\n",
            "3\n",
            "4\n",
            "5\n"
          ]
        }
      ]
    },
    {
      "cell_type": "code",
      "source": [
        "for r in range:\n",
        "  print(r)"
      ],
      "metadata": {
        "colab": {
          "base_uri": "https://localhost:8080/"
        },
        "id": "pzIwjRs96PME",
        "outputId": "8efbcf19-78b4-4d5d-dd11-9765ca7a8a5b"
      },
      "execution_count": null,
      "outputs": [
        {
          "output_type": "stream",
          "name": "stdout",
          "text": [
            "0\n",
            "2\n",
            "4\n",
            "6\n",
            "8\n"
          ]
        }
      ]
    },
    {
      "cell_type": "code",
      "source": [
        "import time\n",
        "for i in 'Aguarde . . . . . . . . . . . . . . . . . . Status: Verificado ! \\n':\n",
        "    print(i, end='')\n",
        "    time.sleep(0.25)"
      ],
      "metadata": {
        "colab": {
          "base_uri": "https://localhost:8080/"
        },
        "id": "vjor6Mst77mS",
        "outputId": "763eb8a4-ca9b-454d-b80a-aaa57e44fd13"
      },
      "execution_count": null,
      "outputs": [
        {
          "output_type": "stream",
          "name": "stdout",
          "text": [
            "Aguarde . . . . . . . . . . . . . . . . . . Status: Verificado ! \n"
          ]
        }
      ]
    },
    {
      "cell_type": "code",
      "source": [
        "for indice, letra in enumerate(nome):\n",
        "  print(f'{indice} {letra}')"
      ],
      "metadata": {
        "colab": {
          "base_uri": "https://localhost:8080/"
        },
        "id": "oGLumgBV8Mb_",
        "outputId": "23f26c56-be33-4d03-cf70-a2d7b7656a17"
      },
      "execution_count": null,
      "outputs": [
        {
          "output_type": "stream",
          "name": "stdout",
          "text": [
            "0 V\n",
            "1 i\n",
            "2 t\n",
            "3 o\n",
            "4 r\n",
            "5  \n",
            "6 D\n",
            "7 u\n",
            "8 a\n",
            "9 r\n",
            "10 t\n",
            "11 e\n",
            "12  \n",
            "13 B\n",
            "14 e\n",
            "15 m\n"
          ]
        }
      ]
    },
    {
      "cell_type": "code",
      "source": [
        "tentativa = 5\n",
        "\n",
        "\n",
        "def nome1():\n",
        "\n",
        "  nome1 = 'plácidas'\n",
        "  musica = ''\n",
        "  global tentativa\n",
        "\n",
        "  while musica != nome1:\n",
        "    musica = input('Ouviram do ipiranga as margens: ')\n",
        "    if musica != nome1:\n",
        "      print('errado')\n",
        "      tentativa = tentativa - 1\n",
        "      print(f'Voce tem {tentativa} chances')\n",
        "      if tentativa == 0:\n",
        "        print('Chances acabaram')\n",
        "        break \n",
        "\n",
        "def nome2():\n",
        "  \n",
        "  nome2 = 'retumbante'\n",
        "  musica = ''\n",
        "  global tentativa\n",
        "\n",
        "  while musica != nome2:\n",
        "    musica = input('De um povo heroico o brado: ')\n",
        "    if musica != nome2:\n",
        "      print('errado')\n",
        "      tentativa = tentativa - 1\n",
        "      print(f'Voce tem {tentativa} chances')\n",
        "      if tentativa == 0:\n",
        "        print('Chances acabaram')\n",
        "        break\n",
        "\n",
        "def nome3():\n",
        "  \n",
        "  nome3 = 'fúlgidos'\n",
        "  musica = ''\n",
        "  global tentativa\n",
        "\n",
        "  while musica != nome3:\n",
        "    musica = input('E o sol da liberdade em raios: ')\n",
        "    if musica != nome3:\n",
        "      print('errado')\n",
        "      tentativa = tentativa - 1\n",
        "      print(f'Voce tem {tentativa} chances')\n",
        "      if tentativa == 0:\n",
        "        print('Chances acabaram')\n",
        "        break\n",
        "\n",
        "def nome4():\n",
        "  \n",
        "  nome4 = 'instante'\n",
        "  musica = ''\n",
        "  global tentativa\n",
        "\n",
        "  while musica != nome4:\n",
        "    musica = input('Brihou no céu da pátria nesse: ')\n",
        "    if musica != nome4:\n",
        "      print('errado')\n",
        "      tentativa = tentativa - 1\n",
        "      print(f'Voce tem {tentativa} chances')\n",
        "      if tentativa == 0:\n",
        "        print('Chances acabaram')\n",
        "        break\n",
        "\n",
        "nome1()\n",
        "\n",
        "if tentativa > 0:\n",
        "  nome2()\n",
        "else:\n",
        "  print('.')\n",
        "\n",
        "if tentativa > 0:\n",
        "  nome3()\n",
        "else:\n",
        "  print('.')\n",
        "\n",
        "if tentativa > 0:\n",
        "  nome4()\n",
        "else:\n",
        "  print('.')\n",
        "\n",
        "print(f'Sua pontuação total:{tentativa} pontos')\n",
        "\n"
      ],
      "metadata": {
        "colab": {
          "base_uri": "https://localhost:8080/"
        },
        "id": "bIW1m9IbAfd8",
        "outputId": "b5dd6dab-ece1-47ad-d1ba-22f2af564fcf"
      },
      "execution_count": 20,
      "outputs": [
        {
          "name": "stdout",
          "output_type": "stream",
          "text": [
            "Ouviram do ipiranga as margens: plácidas\n",
            "De um povo heroico o brado: dd\n",
            "errado\n",
            "Voce tem 4 chances\n",
            "De um povo heroico o brado: retumbante\n",
            "E o sol da liberdade em raios: fúlgidos\n",
            "E o sol da liberdade em raios: instante\n"
          ]
        }
      ]
    }
  ]
}