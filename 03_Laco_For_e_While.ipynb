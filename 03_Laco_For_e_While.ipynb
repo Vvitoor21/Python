{
  "nbformat": 4,
  "nbformat_minor": 0,
  "metadata": {
    "colab": {
      "name": "03_Laco_For_e_While.ipynb",
      "provenance": [],
      "collapsed_sections": [],
      "authorship_tag": "ABX9TyMXvpRZxILYj2nqQPq+MMXr"
    },
    "kernelspec": {
      "name": "python3",
      "display_name": "Python 3"
    },
    "language_info": {
      "name": "python"
    }
  },
  "cells": [
    {
      "cell_type": "code",
      "execution_count": 18,
      "metadata": {
        "id": "b2tbYhvs39GD"
      },
      "outputs": [],
      "source": [
        "nome = 'Vitor Duarte Bem'\n",
        "numeros = [1,2,3,4,5]\n",
        "range = range(0,10,2)"
      ]
    },
    {
      "cell_type": "code",
      "source": [
        "for letra in nome:\n",
        "  print(letra)"
      ],
      "metadata": {
        "colab": {
          "base_uri": "https://localhost:8080/"
        },
        "id": "wdORP-lh440p",
        "outputId": "2e9fd769-6dae-4874-c535-5507c91aa896"
      },
      "execution_count": 19,
      "outputs": [
        {
          "output_type": "stream",
          "name": "stdout",
          "text": [
            "V\n",
            "i\n",
            "t\n",
            "o\n",
            "r\n",
            " \n",
            "D\n",
            "u\n",
            "a\n",
            "r\n",
            "t\n",
            "e\n",
            " \n",
            "B\n",
            "e\n",
            "m\n"
          ]
        }
      ]
    },
    {
      "cell_type": "code",
      "source": [
        "for numero in numeros:\n",
        "  print(numero)"
      ],
      "metadata": {
        "colab": {
          "base_uri": "https://localhost:8080/"
        },
        "id": "x0ayaqYD51fn",
        "outputId": "75cf17e2-bc65-46fe-e02d-7ae568c18361"
      },
      "execution_count": 5,
      "outputs": [
        {
          "output_type": "stream",
          "name": "stdout",
          "text": [
            "1\n",
            "2\n",
            "3\n",
            "4\n",
            "5\n"
          ]
        }
      ]
    },
    {
      "cell_type": "code",
      "source": [
        "for r in range:\n",
        "  print(r)"
      ],
      "metadata": {
        "colab": {
          "base_uri": "https://localhost:8080/"
        },
        "id": "pzIwjRs96PME",
        "outputId": "8efbcf19-78b4-4d5d-dd11-9765ca7a8a5b"
      },
      "execution_count": 20,
      "outputs": [
        {
          "output_type": "stream",
          "name": "stdout",
          "text": [
            "0\n",
            "2\n",
            "4\n",
            "6\n",
            "8\n"
          ]
        }
      ]
    },
    {
      "cell_type": "code",
      "source": [
        "import time\n",
        "for i in 'Aguarde . . . . . . . . . . . . . . . . . . Status: Verificado ! \\n':\n",
        "    print(i, end='')\n",
        "    time.sleep(0.25)"
      ],
      "metadata": {
        "colab": {
          "base_uri": "https://localhost:8080/"
        },
        "id": "vjor6Mst77mS",
        "outputId": "763eb8a4-ca9b-454d-b80a-aaa57e44fd13"
      },
      "execution_count": 21,
      "outputs": [
        {
          "output_type": "stream",
          "name": "stdout",
          "text": [
            "Aguarde . . . . . . . . . . . . . . . . . . Status: Verificado ! \n"
          ]
        }
      ]
    },
    {
      "cell_type": "code",
      "source": [
        "for indice, letra in enumerate(nome):\n",
        "  print(f'{indice} {letra}')"
      ],
      "metadata": {
        "colab": {
          "base_uri": "https://localhost:8080/"
        },
        "id": "oGLumgBV8Mb_",
        "outputId": "23f26c56-be33-4d03-cf70-a2d7b7656a17"
      },
      "execution_count": 30,
      "outputs": [
        {
          "output_type": "stream",
          "name": "stdout",
          "text": [
            "0 V\n",
            "1 i\n",
            "2 t\n",
            "3 o\n",
            "4 r\n",
            "5  \n",
            "6 D\n",
            "7 u\n",
            "8 a\n",
            "9 r\n",
            "10 t\n",
            "11 e\n",
            "12  \n",
            "13 B\n",
            "14 e\n",
            "15 m\n"
          ]
        }
      ]
    },
    {
      "cell_type": "code",
      "source": [
        "nome1 = 'plácidas'\n",
        "nome2 = 'retumbante'\n",
        "nome3 = 'fúlgidos'\n",
        "nome4 = 'instante'\n",
        "\n",
        "musica = ''\n",
        "tentativa = 5\n",
        "\n",
        "while musica != nome1:\n",
        "  musica = input('Ouviram do ipiranga as margens: ')\n",
        "  if musica != nome1:\n",
        "    print('errado')\n",
        "    tentativa = tentativa - 1\n",
        "    print(f'Voce tem {tentativa} chances')\n",
        "    if tentativa == 0:\n",
        "      print('Chances acabaram')\n",
        "      break\n",
        "\n",
        "while musica != nome2:\n",
        "  musica = input('De um povo heroico o brado: ')\n",
        "  if musica != nome2:\n",
        "    print('errado')\n",
        "    tentativa = tentativa - 1\n",
        "    print(f'Voce tem {tentativa} chances')\n",
        "    if tentativa == 0:\n",
        "      print('Chances acabaram')\n",
        "      break"
      ],
      "metadata": {
        "colab": {
          "base_uri": "https://localhost:8080/"
        },
        "id": "el6Pj2JDOPcd",
        "outputId": "0b797ba0-9069-47fd-e6f1-c080399513ed"
      },
      "execution_count": 86,
      "outputs": [
        {
          "name": "stdout",
          "output_type": "stream",
          "text": [
            "Ouviram do ipiranga as margens: fgg\n",
            "errado\n",
            "Voce tem 4 chances\n",
            "Ouviram do ipiranga as margens: plácidas\n",
            "De um povo heroico o brado: ff\n",
            "errado\n",
            "Voce tem 3 chances\n",
            "De um povo heroico o brado: retumbante\n"
          ]
        }
      ]
    }
  ]
}